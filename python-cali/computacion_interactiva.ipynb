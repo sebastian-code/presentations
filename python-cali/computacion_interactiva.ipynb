{
 "cells": [
  {
   "cell_type": "markdown",
   "metadata": {
    "slideshow": {
     "slide_type": "slide"
    }
   },
   "source": [
    "# ¿Que son los cuadernos de Jupyter?"
   ]
  },
  {
   "cell_type": "markdown",
   "metadata": {
    "slideshow": {
     "slide_type": "fragment"
    }
   },
   "source": [
    "### Ellos lo definen así:\n",
    "\n",
    "> The Jupyter Notebook is an open-source web application that allows you to create and share documents that contain live code, equations, visualizations and explanatory text. Uses include: data cleaning and transformation, numerical simulation, statistical modeling, machine learning and much more."
   ]
  },
  {
   "cell_type": "markdown",
   "metadata": {
    "slideshow": {
     "slide_type": "slide"
    }
   },
   "source": [
    "Personalmente lo considero **la** herramienta para trabajar con datos y con ellos poder contar *historias* que puedo **compartir** con una excelente presentación:\n",
    "\n",
    "* metodologías\n",
    "* procedimientos\n",
    "* análisis\n",
    "\n",
    "Adicionalmente es una herramienta ideal para prototipar, escribir partes especificas del codigo que se desarrolla y recibir retroalimentacion en tiempo real."
   ]
  },
  {
   "cell_type": "markdown",
   "metadata": {
    "slideshow": {
     "slide_type": "fragment"
    }
   },
   "source": [
    "¿Y a nivel tecnico? La verdad es que es un documento **JSON**."
   ]
  },
  {
   "cell_type": "code",
   "execution_count": null,
   "metadata": {
    "collapsed": false,
    "slideshow": {
     "slide_type": "slide"
    }
   },
   "outputs": [],
   "source": [
    "from IPython.nbformat import read\n",
    "with open('computacion_interactiva-python_cali.ipynb') as f:\n",
    "    nb = read(f, 3)\n",
    "\n",
    "nb.worksheets[0].cells[0:4]"
   ]
  },
  {
   "cell_type": "markdown",
   "metadata": {
    "slideshow": {
     "slide_type": "slide"
    }
   },
   "source": [
    "## Que no aprenderemos hoy\n",
    "\n",
    "* **No** aprenderemos a usar *Pandas*.\n",
    "* **No** aprenderemos a usar librerias de graficación como Matplotlib, ni Bokeh o Plotly.\n",
    "* **No** aprenderemos a usar NumPy, ni Scipy, ni otras librerias de alta complejidad que suelen usarse.\n",
    "* Tampoco lograremos ser expertos en el uso de la herramienta."
   ]
  },
  {
   "cell_type": "markdown",
   "metadata": {
    "slideshow": {
     "slide_type": "slide"
    }
   },
   "source": [
    "***Jupyter Notebooks*** trabaja con archivos `.ipynb`.\n",
    "\n",
    "* En el notebook es posible almacenar:\n",
    "    * Texto (Markdown)\n",
    "    * Equaciones (LaTeX)\n",
    "    * Imágenes\n",
    "    * Videos\n",
    "    * HTML"
   ]
  },
  {
   "cell_type": "markdown",
   "metadata": {
    "slideshow": {
     "slide_type": "fragment"
    }
   },
   "source": [
    "* Es posible ejecutar:\n",
    "    * Código\n",
    "    * HTML"
   ]
  },
  {
   "cell_type": "markdown",
   "metadata": {
    "slideshow": {
     "slide_type": "fragment"
    }
   },
   "source": [
    "* Es posible renderizar:\n",
    "    * Imágenes\n",
    "    * Videos"
   ]
  },
  {
   "cell_type": "markdown",
   "metadata": {
    "slideshow": {
     "slide_type": "fragment"
    }
   },
   "source": [
    "* Puede ser sujeto de control de versiones (usando la herramienta de preferencia).\n",
    "* Puede verse sin tener IPython instalado usando NBViewer: http://nbviewer.ipython.org/.\n",
    "* Puede ser exportado a otros formatos: Slides (usando reveal.js), HTML, Markdown, reStructured Text, LaTeX y PDF."
   ]
  },
  {
   "cell_type": "markdown",
   "metadata": {
    "slideshow": {
     "slide_type": "subslide"
    }
   },
   "source": [
    "### Cuenta con en su interfase de usuario con:\n",
    "\n",
    "* Tablero de control.\n",
    "* Menus de seleccion de funciones.\n",
    "* Barra de herramientas con las funcionalidades y controles mas comunes.\n",
    "* El área del notebook y celdas."
   ]
  },
  {
   "cell_type": "markdown",
   "metadata": {
    "slideshow": {
     "slide_type": "slide"
    }
   },
   "source": [
    "# ¿Que son las celdas?"
   ]
  },
  {
   "cell_type": "markdown",
   "metadata": {
    "slideshow": {
     "slide_type": "subslide"
    }
   },
   "source": [
    "Las celdas de los notebooks son el centro de su potencial. De acuerdo a su tipo, es posible acceder a las diferentes funcionalidades de los notebooks."
   ]
  },
  {
   "cell_type": "markdown",
   "metadata": {
    "slideshow": {
     "slide_type": "subslide"
    }
   },
   "source": [
    "## Tipo de celdas.\n",
    "\n",
    "* Code\n",
    "* Markdown\n",
    "* Raw text\n",
    "* Heading"
   ]
  },
  {
   "cell_type": "markdown",
   "metadata": {
    "slideshow": {
     "slide_type": "slide"
    }
   },
   "source": [
    "### Celdas de tipo \"Code\"\n",
    "Las celdas de tipo codigo permiten ejecutar codigo del tipo:\n",
    "\n",
    "```python\n",
    "def f(x):\n",
    "    \"\"\"a docstring\"\"\"\n",
    "    return x**2\n",
    "```\n",
    "\n",
    "Un ejemplo de codigo ejecutado puede ser el clasico \"Hola Mundo\""
   ]
  },
  {
   "cell_type": "code",
   "execution_count": null,
   "metadata": {
    "collapsed": false,
    "slideshow": {
     "slide_type": "subslide"
    }
   },
   "outputs": [],
   "source": [
    "print(\"Hola mundo\")"
   ]
  },
  {
   "cell_type": "markdown",
   "metadata": {
    "slideshow": {
     "slide_type": "subslide"
    }
   },
   "source": [
    "O es posible ejecutar codigo mas complejo, donde es posible visualizar graficas como esta:\n",
    "\n",
    "<img src=\"sources/ecuaciones_cuadraticas.png\" />\n",
    "\n",
    "corriendo codigo como este:"
   ]
  },
  {
   "cell_type": "markdown",
   "metadata": {
    "slideshow": {
     "slide_type": "subslide"
    }
   },
   "source": [
    "```python\n",
    "import matplotlib.pyplot as plt\n",
    "import numpy as np\n",
    "\n",
    "x = np.linspace(-3, 3, 100)\n",
    "\n",
    "def f(x,a,b,c):\n",
    "   return a*x**2+b*x+c;\n",
    "\n",
    "def vertex(a,b,c):\n",
    "   x0 = -b/(2.0*a)\n",
    "   y0 = c-b*b/(4.0*a)\n",
    "   return [x0, y0]\n",
    "\n",
    "plt.plot(x, f(x,1,1,1), label='$y=x^{2}+x+1$',color='red')\n",
    "plt.plot(x, f(x,1,1,-2), label='$y=x^{2}+x-2$',color='green')\n",
    "plt.plot(x, f(x,1,-2,1), label='$y=x^{2}-2x+1$',color='blue')\n",
    "a1, b1 = vertex(1,1,1)\n",
    "plt.plot([a1],[b1], 'ro')\n",
    "a2, b2 = vertex(1,1,-2)\n",
    "plt.plot([a2],[b2], 'go')\n",
    "a3, b3 = vertex(1,-2,1)\n",
    "plt.plot([a3],[b3], 'bo')\n",
    "plt.axis('equal')\n",
    "plt.xlabel('x-axis')\n",
    "plt.ylabel('y-axis')\n",
    "plt.axhline(0, color='black')\n",
    "plt.axvline(0, color='black')\n",
    "plt.title(\"Quadratic Functions\")\n",
    "plt.annotate('(0, 0)', xy=(0, 0), xytext=(.1, -.3))\n",
    "plt.axis([-3, 3, -3, 3])\n",
    "plt.legend(bbox_to_anchor=(1, .4))\n",
    "plt.show()\n",
    "```"
   ]
  },
  {
   "cell_type": "markdown",
   "metadata": {
    "slideshow": {
     "slide_type": "slide"
    }
   },
   "source": [
    "### Celdas de tipo \"Markdown\" \n",
    "\n",
    "Son en general todas las anteriores. Como esta. Donde es posible usar todas las funcionalidades de lenguaje de marcado.\n",
    "\n",
    "#### Markdown\n",
    "```markdown\n",
    "# Headings 1\n",
    "## Headings 2\n",
    "### Headings 3\n",
    "#### Headings 4\n",
    "#### Headings 5\n",
    "##### Headings 6\n",
    "```"
   ]
  },
  {
   "cell_type": "markdown",
   "metadata": {
    "slideshow": {
     "slide_type": "subslide"
    }
   },
   "source": [
    "y se ve:\n",
    "\n",
    "# Headings 1\n",
    "## Headings 2\n",
    "### Headings 3\n",
    "#### Headings 4\n",
    "#### Headings 5\n",
    "##### Headings 6"
   ]
  },
  {
   "cell_type": "markdown",
   "metadata": {
    "slideshow": {
     "slide_type": "subslide"
    }
   },
   "source": [
    "También es posible trabajar con $\\LaTeX$\n",
    "\n",
    "#### LaTeX\n",
    "```latex\n",
    "$$ \\begin{array}{rcl}\n",
    "y & = & a x^{2}+bx+c\\\\\n",
    "  & = & a\\left(x^{2}+2\\times\\frac{b}{2a}x+\\frac{c}{a}\\right)\\\\\n",
    "  & = & a\\left(x+\\frac{b}{2a}\\right)^2 - \\frac{b^2}{4a} + c\n",
    "\\end{array}$$ \n",
    "```"
   ]
  },
  {
   "cell_type": "markdown",
   "metadata": {
    "slideshow": {
     "slide_type": "subslide"
    }
   },
   "source": [
    "Y se vera así:\n",
    "\n",
    "### Vertice de una Parabola \n",
    "$$ \\begin{array}{rcl}\n",
    "y & = & a x^{2}+bx+c\\\\\n",
    "  & = & a\\left(x^{2}+2\\times\\frac{b}{2a}x+\\frac{c}{a}\\right)\\\\\n",
    "  & = & a\\left(x+\\frac{b}{2a}\\right)^2 - \\frac{b^2}{4a} + c\n",
    "\\end{array}$$"
   ]
  },
  {
   "cell_type": "markdown",
   "metadata": {
    "slideshow": {
     "slide_type": "subslide"
    }
   },
   "source": [
    "O expresarlo incluso de formas diferentes:\n",
    "\n",
    "#### LaTeX\n",
    "\n",
    "```latex\n",
    "Vertice de la parabola, $y = f(x)$ is $\\left(-\\frac{b}{2a}, c - \\frac{b^2}{4a}\\right)$.\n",
    "```\n",
    "\n",
    "Vertice de la parabola, $y = f(x)$ is $\\left(-\\frac{b}{2a}, c - \\frac{b^2}{4a}\\right)$."
   ]
  },
  {
   "cell_type": "markdown",
   "metadata": {
    "slideshow": {
     "slide_type": "slide"
    }
   },
   "source": [
    "### Funciones auxiliares y atajos interactivos o \"Magics\"\n",
    "\n",
    "La herramienta incorpora multiples ayudas interactivas como:\n",
    "\n",
    "```python\n",
    "%lsmagic\n",
    "```\n",
    "\n",
    "O la ayuda integrada:\n",
    "\n",
    "```python\n",
    "?\n",
    "```\n",
    "\n",
    "y \n",
    "\n",
    "```python\n",
    "??\n",
    "```"
   ]
  }
 ],
 "metadata": {
  "celltoolbar": "Slideshow",
  "kernelspec": {
   "display_name": "Python 3",
   "language": "python",
   "name": "python3"
  },
  "language_info": {
   "codemirror_mode": {
    "name": "ipython",
    "version": 3
   },
   "file_extension": ".py",
   "mimetype": "text/x-python",
   "name": "python",
   "nbconvert_exporter": "python",
   "pygments_lexer": "ipython3",
   "version": "3.5.2"
  }
 },
 "nbformat": 4,
 "nbformat_minor": 2
}
