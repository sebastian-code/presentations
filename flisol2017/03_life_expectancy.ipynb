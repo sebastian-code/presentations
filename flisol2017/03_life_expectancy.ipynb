{
 "cells": [
  {
   "cell_type": "markdown",
   "metadata": {},
   "source": [
    "### Uso básico de la herramienta.\n",
    "\n",
    "1. **Alistamiento:** Importar todas las librerías necesarias desde el principio.\n",
    "2. **Cargar Datos:** Alistar los datos a analizar y validarlos.\n",
    "3. **Primeras preguntas:** Empecemos por lo básico y luego vamos escalando.\n",
    "4. **Grafiquemos:** Una imagen vale mas que 1000 palabras, y para eso matplotlib y seaborn.\n",
    "5. **Analicemos mas:** Analicemos un poco mas (y un poco mejor)."
   ]
  },
  {
   "cell_type": "markdown",
   "metadata": {},
   "source": [
    "### 1. Alistamiento."
   ]
  },
  {
   "cell_type": "code",
   "execution_count": null,
   "metadata": {
    "collapsed": false
   },
   "outputs": [],
   "source": [
    "# Cargar librerias y definimos algunos elementos y caracteristicas.\n",
    "import warnings; warnings.simplefilter('ignore')\n",
    "\n",
    "import numpy as np\n",
    "import pandas as pd\n",
    "import seaborn as sns\n",
    "\n",
    "import matplotlib.pyplot as plt\n",
    "import matplotlib; matplotlib.style.use('ggplot')\n",
    "\n",
    "from pandas import set_option\n",
    "set_option(\"display.max_rows\", 16)\n",
    "\n",
    "LARGE_FIGSIZE = (12, 8)"
   ]
  },
  {
   "cell_type": "code",
   "execution_count": null,
   "metadata": {
    "collapsed": false
   },
   "outputs": [],
   "source": [
    "# inline plots\n",
    "%matplotlib inline"
   ]
  },
  {
   "cell_type": "markdown",
   "metadata": {},
   "source": [
    "### 2. Cargar datos."
   ]
  },
  {
   "cell_type": "code",
   "execution_count": null,
   "metadata": {
    "collapsed": false
   },
   "outputs": [],
   "source": [
    "# Leemos el conjunto de datos y lo cargamos a un DataFrame en el objeto \"df\", y luego verificamos las primeras lineas.\n",
    "df = pd.read_csv('sources/life_expectancy.csv')\n",
    "df.head()"
   ]
  },
  {
   "cell_type": "code",
   "execution_count": null,
   "metadata": {
    "collapsed": false
   },
   "outputs": [],
   "source": [
    "# ¿Como es el conjunto de datos procesado\n",
    "df.shape"
   ]
  },
  {
   "cell_type": "code",
   "execution_count": null,
   "metadata": {
    "collapsed": false
   },
   "outputs": [],
   "source": [
    "# ¿Que contiene?\n",
    "df.info()"
   ]
  },
  {
   "cell_type": "code",
   "execution_count": null,
   "metadata": {
    "collapsed": false
   },
   "outputs": [],
   "source": [
    "# Definimos un indice, y volvemos a mirar como es ahora.\n",
    "df = df.set_index('Country')\n",
    "df.head()"
   ]
  },
  {
   "cell_type": "markdown",
   "metadata": {},
   "source": [
    "### 3. Primeras preguntas"
   ]
  },
  {
   "cell_type": "markdown",
   "metadata": {},
   "source": [
    "**¿Incrementó la expectativa de vida desde 1960 a 2013?**"
   ]
  },
  {
   "cell_type": "code",
   "execution_count": null,
   "metadata": {
    "collapsed": false
   },
   "outputs": [],
   "source": [
    "df.mean().plot()"
   ]
  },
  {
   "cell_type": "markdown",
   "metadata": {},
   "source": [
    "**En 1960 ¿que países tenían la expectativa de vida mas baja y la mas alta?**"
   ]
  },
  {
   "cell_type": "code",
   "execution_count": null,
   "metadata": {
    "collapsed": false
   },
   "outputs": [],
   "source": [
    "# idxmax e idxmin evidencian los indices correspondientes a los mayores y menos valores en una columna.\n",
    "print(df['1960'].idxmax())\n",
    "print(df['1960'].idxmin())"
   ]
  },
  {
   "cell_type": "markdown",
   "metadata": {},
   "source": [
    "**¿Cuales son los valores de la media, el mas bajo y el mas alto en 1960?**"
   ]
  },
  {
   "cell_type": "code",
   "execution_count": null,
   "metadata": {
    "collapsed": false
   },
   "outputs": [],
   "source": [
    "# max y min brindan los valores, mean calcula la media.\n",
    "print(np.round(df['1960'].max()))\n",
    "print(np.round(df['1960'].min()))\n",
    "print(np.round(df['1960'].mean()))"
   ]
  },
  {
   "cell_type": "markdown",
   "metadata": {
    "collapsed": true
   },
   "source": [
    "**¿Cuales son los valores mas alto, mas bajo y la media para un año dado?**"
   ]
  },
  {
   "cell_type": "code",
   "execution_count": null,
   "metadata": {
    "collapsed": false
   },
   "outputs": [],
   "source": [
    "# Definimos una funcion (es Python a fin de cuentas) para obtener \"high\", \"low\", y la mediana para un año dado.\n",
    "def high_low_mean(year):\n",
    "    print(\"En el año\", year)\n",
    "    print(df[year].idxmin(), \"tuvo la expectativa de vida mas baja, con:\", np.round(df[year].min()))\n",
    "    print(df[year].idxmax(), \"tuvo la expectativa de vida mas alta, con:\", np.round(df[year].max()))\n",
    "    print(\"La expectativa de vida media fue de: \", np.round(df[year].mean()))"
   ]
  },
  {
   "cell_type": "code",
   "execution_count": null,
   "metadata": {
    "collapsed": false
   },
   "outputs": [],
   "source": [
    "high_low_mean('2010')"
   ]
  },
  {
   "cell_type": "markdown",
   "metadata": {},
   "source": [
    "**¿Que países vieron los mayores cambios en su expectativa de vida?**"
   ]
  },
  {
   "cell_type": "code",
   "execution_count": null,
   "metadata": {
    "collapsed": false
   },
   "outputs": [],
   "source": [
    "# Calculamos el cambio y lo añadimos a una nueva columna \"gain\": gain = (value_in_2013 - value_in_1960)/value_in_1960\n",
    "df['gain'] = np.round((df['2013']-df['1960'])/df['1960'],2)"
   ]
  },
  {
   "cell_type": "code",
   "execution_count": null,
   "metadata": {
    "collapsed": false
   },
   "outputs": [],
   "source": [
    "# Volvemos a revisar como se ve ahora\n",
    "df.head()"
   ]
  },
  {
   "cell_type": "code",
   "execution_count": null,
   "metadata": {
    "collapsed": false
   },
   "outputs": [],
   "source": [
    "# y creamos un DataFrame solo con ese dato y miramos como se ve.\n",
    "gain = df['gain']\n",
    "gain.head()"
   ]
  },
  {
   "cell_type": "code",
   "execution_count": null,
   "metadata": {
    "collapsed": false
   },
   "outputs": [],
   "source": [
    "# Ordenemos la serie y descartemos los valores ausentes, y veamos como se ve nuevamente.\n",
    "df_gain = gain.dropna().order(ascending=False)\n",
    "df_gain.head()"
   ]
  },
  {
   "cell_type": "code",
   "execution_count": null,
   "metadata": {
    "collapsed": false
   },
   "outputs": [],
   "source": [
    "# Los diez paises con el mayor incremento.\n",
    "df_gain.head(10)"
   ]
  },
  {
   "cell_type": "code",
   "execution_count": null,
   "metadata": {
    "collapsed": false
   },
   "outputs": [],
   "source": [
    "# Los diez paises con el menor incremento.\n",
    "df_gain.tail(10)"
   ]
  },
  {
   "cell_type": "code",
   "execution_count": null,
   "metadata": {
    "collapsed": false
   },
   "outputs": [],
   "source": [
    "# Borramos la columna \"gain\" del dataframe original porque ya la tenemos por aparte.\n",
    "del df['gain']"
   ]
  },
  {
   "cell_type": "code",
   "execution_count": null,
   "metadata": {
    "collapsed": false
   },
   "outputs": [],
   "source": [
    "# Un histograma.\n",
    "df_gain.hist()"
   ]
  },
  {
   "cell_type": "code",
   "execution_count": null,
   "metadata": {
    "collapsed": false
   },
   "outputs": [],
   "source": [
    "# Grafica del KDE (kernel density estimation) de \"gains\"\n",
    "df_gain.plot(kind='kde')"
   ]
  },
  {
   "cell_type": "code",
   "execution_count": null,
   "metadata": {
    "collapsed": false
   },
   "outputs": [],
   "source": [
    "# La grafica resultante es muy grande para poder ser apreciada, pero puede exportarse a una imagen.\n",
    "ax = df_gain.plot(kind='bar', figsize=(50,25));\n",
    "ax.plot()\n",
    "# fig = ax.get_figure()\n",
    "# fig.savefig('gains.png')"
   ]
  },
  {
   "cell_type": "markdown",
   "metadata": {},
   "source": [
    "## 4. Grafiquemos un poco"
   ]
  },
  {
   "cell_type": "markdown",
   "metadata": {},
   "source": [
    "### Histogramas"
   ]
  },
  {
   "cell_type": "code",
   "execution_count": null,
   "metadata": {
    "collapsed": false
   },
   "outputs": [],
   "source": [
    "# Expectativa de vida en 1960.\n",
    "df.hist(column='1960', bins=20);"
   ]
  },
  {
   "cell_type": "code",
   "execution_count": null,
   "metadata": {
    "collapsed": false
   },
   "outputs": [],
   "source": [
    "# Comparemos 1960 contra 2013.\n",
    "f, (ax1, ax2) = plt.subplots(2);\n",
    "df.hist(column='1960', ax=ax1);\n",
    "df.hist(column='2013', color='green', ax=ax2);"
   ]
  },
  {
   "cell_type": "code",
   "execution_count": null,
   "metadata": {
    "collapsed": false
   },
   "outputs": [],
   "source": [
    "# Ahora hagamoslo en la misma grafica.\n",
    "f, (ax1) = plt.subplots(1,figsize=LARGE_FIGSIZE)\n",
    "df.hist(column='1960',bins=30, ax=ax1);\n",
    "df.hist(column='2013',bins=30, color='blue', ax=ax1);\n",
    "plt.xlabel('Expectativa de Vida')\n",
    "plt.ylabel('Número de Países')\n",
    "plt.title(\"1960 vs 2013\")"
   ]
  },
  {
   "cell_type": "code",
   "execution_count": null,
   "metadata": {
    "collapsed": true
   },
   "outputs": [],
   "source": [
    "# Demasiado a mano, volvamoslo una funcion para usarlo en cualquier año.\n",
    "def compare_hist(year1,year2):\n",
    "    f, (ax1) = plt.subplots(1,figsize=LARGE_FIGSIZE)\n",
    "    df.hist(column=year1,bins=20, ax=ax1);\n",
    "    df.hist(column=year2,bins=20, color='blue', ax=ax1);\n",
    "    plt.xlabel('Life Expectancy')\n",
    "    plt.ylabel('Number of Countries')\n",
    "    plt.title(str(year1) + \" vs \" + str(year2))"
   ]
  },
  {
   "cell_type": "code",
   "execution_count": null,
   "metadata": {
    "collapsed": false
   },
   "outputs": [],
   "source": [
    "compare_hist('1960','2010')"
   ]
  },
  {
   "cell_type": "markdown",
   "metadata": {},
   "source": [
    "### Kernel Density Estimate (KDE) and Rugplot"
   ]
  },
  {
   "cell_type": "code",
   "execution_count": null,
   "metadata": {
    "collapsed": false
   },
   "outputs": [],
   "source": [
    "# Visualicemos un poco los datos, y aprovechemos que los analisis pueden parametrizarse.\n",
    "\n",
    "sns.distplot(df['2010'].dropna(), hist=True, kde=True, rug=False, bins=25);"
   ]
  },
  {
   "cell_type": "code",
   "execution_count": null,
   "metadata": {
    "collapsed": false
   },
   "outputs": [],
   "source": [
    "# Asi como lo hicimos antes, ahora volvamoslo funcion para comparar años.\n",
    "def sns_compare(year1,year2):\n",
    "    f, (ax1) = plt.subplots(1, figsize=LARGE_FIGSIZE)\n",
    "    for yr in range(int(year1),int(year2)):\n",
    "        sns.distplot(df[str(yr)].dropna(), hist=False, kde=True, rug=False, bins=25)"
   ]
  },
  {
   "cell_type": "code",
   "execution_count": null,
   "metadata": {
    "collapsed": false
   },
   "outputs": [],
   "source": [
    "sns_compare('2000','2010')"
   ]
  },
  {
   "cell_type": "code",
   "execution_count": null,
   "metadata": {
    "collapsed": false
   },
   "outputs": [],
   "source": [
    "# Una comparacion lado a lado.\n",
    "f, (ax1) = plt.subplots(1, figsize=LARGE_FIGSIZE)\n",
    "sns.distplot(df['1960'].dropna(),hist=True, kde=True, rug=False, bins=25);\n",
    "sns.distplot(df['2010'].dropna(),hist=True, kde=True, rug=False, bins=25);\n",
    "plt.xlabel('Exopectativa de Vida');\n",
    "plt.ylabel('Cantidad de Paises');\n",
    "plt.title('Expectativa de Vida: 1960 vs 2010')"
   ]
  },
  {
   "cell_type": "markdown",
   "metadata": {},
   "source": [
    "#### Diagrama de caja."
   ]
  },
  {
   "cell_type": "code",
   "execution_count": null,
   "metadata": {
    "collapsed": false
   },
   "outputs": [],
   "source": [
    "# boxplot using standard pandas and matplotlib\n",
    "df.boxplot(column='1960');"
   ]
  },
  {
   "cell_type": "code",
   "execution_count": null,
   "metadata": {
    "collapsed": false
   },
   "outputs": [],
   "source": [
    "df.boxplot(column=['1960','2010']);"
   ]
  },
  {
   "cell_type": "markdown",
   "metadata": {},
   "source": [
    "#### Diagrama de violin."
   ]
  },
  {
   "cell_type": "code",
   "execution_count": null,
   "metadata": {
    "collapsed": false
   },
   "outputs": [],
   "source": [
    "sns.violinplot(df['1960'])"
   ]
  },
  {
   "cell_type": "code",
   "execution_count": null,
   "metadata": {
    "collapsed": false
   },
   "outputs": [],
   "source": [
    "sns.violinplot(df['1960'], palette=\"Set2\",linewidth=5)\n",
    "sns.violinplot(df['2010'],linewidth=5)"
   ]
  },
  {
   "cell_type": "markdown",
   "metadata": {},
   "source": [
    "## 5. Analicemos un poco mas (y un poco mejor)."
   ]
  },
  {
   "cell_type": "code",
   "execution_count": null,
   "metadata": {
    "collapsed": false
   },
   "outputs": [],
   "source": [
    "# Veamos como se ve en este momento el conjunto de datos.\n",
    "df.head()"
   ]
  },
  {
   "cell_type": "code",
   "execution_count": null,
   "metadata": {
    "collapsed": false
   },
   "outputs": [],
   "source": [
    "# Ahora transformemos el conjunto de datos.\n",
    "transform = df.T\n",
    "transform.head()"
   ]
  },
  {
   "cell_type": "code",
   "execution_count": null,
   "metadata": {
    "collapsed": false
   },
   "outputs": [],
   "source": [
    "# Eliminamos el codigo de pais, no hace falta para lo que se quiere ver.\n",
    "t = transform.ix[1:]\n",
    "t.head()"
   ]
  },
  {
   "cell_type": "code",
   "execution_count": null,
   "metadata": {
    "collapsed": false
   },
   "outputs": [],
   "source": [
    "# Ya sabiamos que Noruega tuvo el valor mas alto para 1960\n",
    "t['Norway'].plot()\n",
    "\n",
    "# y que Mali tuvo el mas bajo.\n",
    "t['Mali'].plot()\n",
    "\n",
    "plt.legend();"
   ]
  },
  {
   "cell_type": "code",
   "execution_count": null,
   "metadata": {
    "collapsed": false
   },
   "outputs": [],
   "source": [
    "print(\"Ganancia en Noruega = \", df_gain['Norway'])\n",
    "print(\"Ganancia en Mali. = \", df_gain['Mali'])"
   ]
  },
  {
   "cell_type": "markdown",
   "metadata": {},
   "source": [
    "### Visualicemos los datos a \"vuelo de pajaro\" 1960 - 2013"
   ]
  },
  {
   "cell_type": "code",
   "execution_count": null,
   "metadata": {
    "collapsed": false
   },
   "outputs": [],
   "source": [
    "fig = plt.figure(figsize=LARGE_FIGSIZE)\n",
    "df.boxplot(sym=\"*\");\n",
    "plt.xticks(rotation='vertical');"
   ]
  },
  {
   "cell_type": "code",
   "execution_count": null,
   "metadata": {
    "collapsed": false
   },
   "outputs": [],
   "source": [
    "# La expectiva de vida tuvo una caida marcada en 1977 ¿donde fue?\n",
    "df['1977'].idxmin()"
   ]
  },
  {
   "cell_type": "code",
   "execution_count": null,
   "metadata": {
    "collapsed": false
   },
   "outputs": [],
   "source": [
    "# La expectiva de vida de nuevo tuvo una caida profunda en 1993 ¿donde fue?\n",
    "df['1993'].idxmin()"
   ]
  },
  {
   "cell_type": "code",
   "execution_count": null,
   "metadata": {
    "collapsed": false
   },
   "outputs": [],
   "source": [
    "# Comparemos esos dos paises dentro de nuestro conjunto de datos.\n",
    "fig = plt.figure(figsize=(20,10), dpi=200)\n",
    "t['Cambodia'].plot(marker='o', color='blue');\n",
    "t['Rwanda'].plot(marker='o',color='green');\n",
    "df.mean().plot(color='red', label='Mean');\n",
    "plt.xticks(rotation='vertical');\n",
    "plt.legend();"
   ]
  },
  {
   "cell_type": "markdown",
   "metadata": {},
   "source": [
    "### Comparemos conjuntos de paises."
   ]
  },
  {
   "cell_type": "code",
   "execution_count": null,
   "metadata": {
    "collapsed": true
   },
   "outputs": [],
   "source": [
    "# Al igual que antes, hagamoslo en una funcion para poder reutilizar el proceso.\n",
    "def compare(countries):\n",
    "    for country in countries:\n",
    "        t[country].plot(figsize=(20,10))\n",
    "        print(country, df_gain[country])\n",
    "    plt.legend();"
   ]
  },
  {
   "cell_type": "code",
   "execution_count": null,
   "metadata": {
    "collapsed": false
   },
   "outputs": [],
   "source": [
    "# Primero creamos una lista de los 10 paises con la expectativa de vida mas baja en 1960.\n",
    "bot10 = df.sort_values(by='1960')['1960'].head(10).index.tolist()\n",
    "bot10"
   ]
  },
  {
   "cell_type": "code",
   "execution_count": null,
   "metadata": {
    "collapsed": false
   },
   "outputs": [],
   "source": [
    "# Y ahora creamos un segundo conjunto de 10 paises con la expectativa de vida mas alta.\n",
    "top10 = df.sort_values(by='1960')['1960'].dropna().tail(10).index.tolist()\n",
    "top10"
   ]
  },
  {
   "cell_type": "code",
   "execution_count": null,
   "metadata": {
    "collapsed": false
   },
   "outputs": [],
   "source": [
    "# comparemos entonces.\n",
    "compare(bot10)"
   ]
  },
  {
   "cell_type": "code",
   "execution_count": null,
   "metadata": {
    "collapsed": false
   },
   "outputs": [],
   "source": [
    "compare(top10)"
   ]
  },
  {
   "cell_type": "code",
   "execution_count": null,
   "metadata": {
    "collapsed": false
   },
   "outputs": [],
   "source": [
    "latam = ['Argentina','Bolivia','Colombia','Chile','Brazil','Paraguay','Uruguay']\n",
    "compare(latam)"
   ]
  }
 ],
 "metadata": {
  "kernelspec": {
   "display_name": "Python 3",
   "language": "python",
   "name": "python3"
  },
  "language_info": {
   "codemirror_mode": {
    "name": "ipython",
    "version": 3
   },
   "file_extension": ".py",
   "mimetype": "text/x-python",
   "name": "python",
   "nbconvert_exporter": "python",
   "pygments_lexer": "ipython3",
   "version": "3.5.2"
  }
 },
 "nbformat": 4,
 "nbformat_minor": 0
}
