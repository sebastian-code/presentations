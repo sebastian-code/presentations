{
 "cells": [
  {
   "cell_type": "markdown",
   "metadata": {},
   "source": [
    "# La calidad de los datos suele no ser la mejor.\n",
    "\n",
    "### Un ejemplo tomando datos de U.S. Energy Information Administration\n",
    "\n",
    "Fuente de los datos: [eia.gov](http://www.eia.gov/coal/data.cfm)\n",
    "\n",
    "¿Que hacer?\n",
    "\n",
    "1. **Revisar los datos** Siempre asuman que los datos tienen errores.\n",
    "2. **Limpiar y estandarizar** Es necesario procesar los datos para que sean homogeneos y confiables."
   ]
  },
  {
   "cell_type": "code",
   "execution_count": null,
   "metadata": {
    "collapsed": true
   },
   "outputs": [],
   "source": [
    "%matplotlib inline"
   ]
  },
  {
   "cell_type": "code",
   "execution_count": null,
   "metadata": {
    "collapsed": true
   },
   "outputs": [],
   "source": [
    "import glob\n",
    "\n",
    "import numpy as np\n",
    "import pandas as pd\n",
    "import seaborn as sns\n",
    "import matplotlib.pyplot as plt\n",
    "\n",
    "from IPython.display import IFrame\n",
    "from xml.sax import ContentHandler, parse"
   ]
  },
  {
   "cell_type": "code",
   "execution_count": null,
   "metadata": {
    "collapsed": true
   },
   "outputs": [],
   "source": [
    "IFrame(\"http://www.eia.gov/coal/data.cfm\", width=700, height=350)"
   ]
  },
  {
   "cell_type": "code",
   "execution_count": null,
   "metadata": {
    "collapsed": false
   },
   "outputs": [],
   "source": [
    "df_test = pd.read_excel('../sources/coalpublic2013.xls')\n",
    "df_test.head()"
   ]
  },
  {
   "cell_type": "code",
   "execution_count": null,
   "metadata": {
    "collapsed": false
   },
   "outputs": [],
   "source": [
    "df_test = pd.read_excel(\"../sources/coalpublic2013.xls\", skiprows=3)\n",
    "df_test.head()"
   ]
  },
  {
   "cell_type": "code",
   "execution_count": null,
   "metadata": {
    "collapsed": false
   },
   "outputs": [],
   "source": [
    "df_test = pd.read_excel(\"../sources/coalpublic2002.xls\", skiprows=3)\n",
    "df_test.head()"
   ]
  },
  {
   "cell_type": "code",
   "execution_count": null,
   "metadata": {
    "collapsed": false
   },
   "outputs": [],
   "source": [
    "# Reference https://goo.gl/KaOBG3\n",
    "class ExcelHandler(ContentHandler):\n",
    "    def __init__(self):\n",
    "        self.chars = []\n",
    "        self.cells = []\n",
    "        self.rows = []\n",
    "        self.tables = []\n",
    "        \n",
    "    def characters(self, content):\n",
    "        self.chars.append(content)\n",
    "        \n",
    "    def startElement(self, name, atts):\n",
    "        if name==\"Cell\":\n",
    "            self.chars = []\n",
    "            \n",
    "        elif name==\"Row\":\n",
    "            self.cells=[]\n",
    "            \n",
    "        elif name==\"Table\":\n",
    "            self.rows = []\n",
    "            \n",
    "    def endElement(self, name):\n",
    "        if name==\"Cell\":\n",
    "            self.cells.append(''.join(self.chars))\n",
    "            \n",
    "        elif name==\"Row\":\n",
    "            self.rows.append(self.cells)\n",
    "            \n",
    "        elif name==\"Table\":\n",
    "            self.tables.append(self.rows)\n",
    "\n",
    "\n",
    "def create_file(org_file_addr, df):\n",
    "    new_addr = 'sources/coal_prod_' + org_file_addr[-8:-4] + '.xlsx'\n",
    "    df.to_excel(new_addr)\n",
    "\n",
    "    \n",
    "def transform_xlrdfiles(file_name):\n",
    "    excelHandler = ExcelHandler()\n",
    "    parse(file_name, excelHandler)\n",
    "    df = pd.DataFrame(excelHandler.tables[0][4:], columns=excelHandler.tables[0][3])\n",
    "    create_file(file_name, df)"
   ]
  },
  {
   "cell_type": "code",
   "execution_count": null,
   "metadata": {
    "collapsed": false
   },
   "outputs": [],
   "source": [
    "lista = glob.glob('../sources/*.xls')\n",
    "for file in lista:\n",
    "    print('Procesando:', file)\n",
    "    try:\n",
    "        df = pd.read_excel(file, skiprows=3)\n",
    "        create_file(file, df)\n",
    "        print(' ...Ok')\n",
    "\n",
    "    except:\n",
    "        transform_xlrdfiles(file)\n",
    "        print(' ...Ok')\n",
    "    \n",
    "print('\\n¡Proceso Terminado!')"
   ]
  },
  {
   "cell_type": "code",
   "execution_count": null,
   "metadata": {
    "collapsed": false
   },
   "outputs": [],
   "source": [
    "df2 = pd.read_excel(\"sources/coal_prod_2002.xlsx\", index_col=False)\n",
    "df3 = pd.read_excel(\"sources/coal_prod_2003.xlsx\", index_col=False)\n",
    "df4 = pd.read_excel(\"sources/coal_prod_2004.xlsx\", index_col=False)\n",
    "df5 = pd.read_excel(\"sources/coal_prod_2005.xlsx\", index_col=False)\n",
    "df6 = pd.read_excel(\"sources/coal_prod_2006.xlsx\", index_col=False)\n",
    "df7 = pd.read_excel(\"sources/coal_prod_2007.xlsx\", index_col=False)\n",
    "df8 = pd.read_excel(\"sources/coal_prod_2008.xlsx\", index_col=False)\n",
    "df9 = pd.read_excel(\"sources/coal_prod_2009.xlsx\", index_col=False)\n",
    "df10 = pd.read_excel(\"sources/coal_prod_2010.xlsx\", index_col=False)\n",
    "df11 = pd.read_excel(\"sources/coal_prod_2011.xlsx\", index_col=False)\n",
    "df12 = pd.read_excel(\"sources/coal_prod_2012.xlsx\", index_col=False)\n",
    "df13 = pd.read_excel(\"sources/coal_prod_2013.xlsx\", index_col=False)\n",
    "df14 = pd.read_excel(\"sources/coal_prod_2014.xlsx\", index_col=False)\n",
    "df15 = pd.read_excel(\"sources/coal_prod_2015.xlsx\", index_col=False)"
   ]
  },
  {
   "cell_type": "code",
   "execution_count": null,
   "metadata": {
    "collapsed": false
   },
   "outputs": [],
   "source": [
    "df = pd.concat((df2, df3, df4, df5, df6, df7, df8, df9, df10, df11, df12, df13, df14, df15))"
   ]
  },
  {
   "cell_type": "code",
   "execution_count": null,
   "metadata": {
    "collapsed": false
   },
   "outputs": [],
   "source": [
    "df.head()"
   ]
  },
  {
   "cell_type": "code",
   "execution_count": null,
   "metadata": {
    "collapsed": false
   },
   "outputs": [],
   "source": [
    "df.drop(['Coal Supply Region', 'Year'], axis=1, inplace=True)"
   ]
  },
  {
   "cell_type": "code",
   "execution_count": null,
   "metadata": {
    "collapsed": false
   },
   "outputs": [],
   "source": [
    "df.head()"
   ]
  },
  {
   "cell_type": "code",
   "execution_count": null,
   "metadata": {
    "collapsed": true
   },
   "outputs": [],
   "source": [
    "new_columns = {\n",
    "                'Average Employees': 'production_short_tons',\n",
    "                'Company Type': 'mine_type',\n",
    "                'Labor Hours': 'average_employees',\n",
    "                'MSHA ID': 'year',\n",
    "                'Mine Basin': 'mine_county',\n",
    "                'Mine County': 'mine_state',\n",
    "                'Mine Name': 'MSHA_ID',\n",
    "                'Mine State': 'mine_name',\n",
    "                'Mine Status': 'mine_basin',\n",
    "                'Mine Type': 'mine_status',\n",
    "                'Operating Company': 'operation_type',\n",
    "                'Operating Company Address': 'operating_company',\n",
    "                'Operation Type': 'company_type',\n",
    "                'Production (short tons)': 'union_code',\n",
    "                'Union Code': 'operating_company_address',\n",
    "              }\n",
    "df.rename(inplace=True, columns=new_columns)"
   ]
  },
  {
   "cell_type": "code",
   "execution_count": null,
   "metadata": {
    "collapsed": false
   },
   "outputs": [],
   "source": [
    "df.head()"
   ]
  },
  {
   "cell_type": "code",
   "execution_count": null,
   "metadata": {
    "collapsed": false
   },
   "outputs": [],
   "source": [
    "df.set_index('MSHA_ID', inplace=True)"
   ]
  },
  {
   "cell_type": "code",
   "execution_count": null,
   "metadata": {
    "collapsed": false
   },
   "outputs": [],
   "source": [
    "df.head()"
   ]
  },
  {
   "cell_type": "code",
   "execution_count": null,
   "metadata": {
    "collapsed": false
   },
   "outputs": [],
   "source": [
    "# Mirando los datos, creo que hay un error tipografico.\n",
    "df['company_type'].unique()"
   ]
  },
  {
   "cell_type": "code",
   "execution_count": null,
   "metadata": {
    "collapsed": false
   },
   "outputs": [],
   "source": [
    "# Corrijamos el valor equivocado.\n",
    "df.loc[df['company_type'] == 'Indepedent Producer Operator', 'company_type'] = 'Independent Producer Operator'\n",
    "df.head()"
   ]
  },
  {
   "cell_type": "markdown",
   "metadata": {},
   "source": [
    "# Y para terminar:\n",
    "\n",
    "## Un producto terminado\n",
    "\n",
    "Un conjunto de datos limpio (mayormente), ordenado y listo para ser analizado."
   ]
  },
  {
   "cell_type": "code",
   "execution_count": null,
   "metadata": {
    "collapsed": true
   },
   "outputs": [],
   "source": [
    "df.to_excel(\"sources/coal_prod_cleaned.xlsx\")"
   ]
  }
 ],
 "metadata": {
  "kernelspec": {
   "display_name": "Python 3",
   "language": "python",
   "name": "python3"
  },
  "language_info": {
   "codemirror_mode": {
    "name": "ipython",
    "version": 3
   },
   "file_extension": ".py",
   "mimetype": "text/x-python",
   "name": "python",
   "nbconvert_exporter": "python",
   "pygments_lexer": "ipython3",
   "version": "3.5.2"
  }
 },
 "nbformat": 4,
 "nbformat_minor": 0
}
