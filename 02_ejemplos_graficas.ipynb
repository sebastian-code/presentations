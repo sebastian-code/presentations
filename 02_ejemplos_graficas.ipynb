{
 "cells": [
  {
   "cell_type": "code",
   "execution_count": null,
   "metadata": {
    "collapsed": true
   },
   "outputs": [],
   "source": [
    "# Aquí tenemos la grafica que vimos antes en la presentación.\n",
    "\n",
    "import matplotlib.pyplot as plt\n",
    "import numpy as np\n",
    "\n",
    "x = np.linspace(-3, 3, 100)\n",
    "\n",
    "def f(x,a,b,c):\n",
    "   return a*x**2+b*x+c;\n",
    "\n",
    "def vertex(a,b,c):\n",
    "   x0 = -b/(2.0*a)\n",
    "   y0 = c-b*b/(4.0*a)\n",
    "   return [x0, y0]\n",
    "\n",
    "plt.plot(x, f(x,1,1,1), label='$y=x^{2}+x+1$',color='red')\n",
    "plt.plot(x, f(x,1,1,-2), label='$y=x^{2}+x-2$',color='green')\n",
    "plt.plot(x, f(x,1,-2,1), label='$y=x^{2}-2x+1$',color='blue')\n",
    "a1, b1 = vertex(1,1,1)\n",
    "plt.plot([a1],[b1], 'ro')\n",
    "a2, b2 = vertex(1,1,-2)\n",
    "plt.plot([a2],[b2], 'go')\n",
    "a3, b3 = vertex(1,-2,1)\n",
    "plt.plot([a3],[b3], 'bo')\n",
    "plt.axis('equal')\n",
    "plt.xlabel('x-axis')\n",
    "plt.ylabel('y-axis')\n",
    "plt.axhline(0, color='black')\n",
    "plt.axvline(0, color='black')\n",
    "plt.title(\"Quadratic Functions\")\n",
    "plt.annotate('(0, 0)', xy=(0, 0), xytext=(.1, -.3))\n",
    "plt.axis([-3, 3, -3, 3])\n",
    "plt.legend(bbox_to_anchor=(1, .4))\n",
    "plt.show()"
   ]
  },
  {
   "cell_type": "code",
   "execution_count": 4,
   "metadata": {
    "collapsed": true
   },
   "outputs": [],
   "source": [
    "from collections import OrderedDict\n",
    "\n",
    "from IPython.display import display, Javascript\n",
    "from ipywidgets import interactive, Select, HBox\n",
    "\n",
    "import pandas as pd"
   ]
  },
  {
   "cell_type": "code",
   "execution_count": 5,
   "metadata": {
    "collapsed": true
   },
   "outputs": [],
   "source": [
    "# Definimos los parametros basicos de los diferentes graficos a mostrar en este ejemplo.\n",
    "OBS_DF = pd.read_csv('sources/aus_weather_obs_2015-2016.csv')\n",
    "OBS_DF = OBS_DF.query('station_number == {} and season == \"{}\"'\n",
    "                      .format(86338, 'Winter 2015'))\n",
    "OBS_DF = OBS_DF.set_index(['valid_15z_date'])\n",
    "\n",
    "FCST_DF = pd.read_csv('sources/aus_weather_fcst_2015-2016.csv')\n",
    "FCST_DF = FCST_DF.query('station_number == {} and season == \"{}\"'.format(86338, 'Winter 2015'))\n",
    "FCST_DF = FCST_DF.set_index(['valid_15z_date'])"
   ]
  },
  {
   "cell_type": "code",
   "execution_count": 6,
   "metadata": {
    "collapsed": true
   },
   "outputs": [],
   "source": [
    "# Establecemos los bordes para las graficas.\n",
    "_MIN_T = -10\n",
    "_MAX_T = 40"
   ]
  },
  {
   "cell_type": "code",
   "execution_count": null,
   "metadata": {
    "collapsed": true
   },
   "outputs": [],
   "source": [
    "import matplotlib.pyplot as plt\n",
    "import matplotlib.cm as cm\n",
    "%matplotlib notebook    \n",
    "\n",
    "def plot_mpl(**kwargs):\n",
    "    \"\"\"Función que dibuja los datos suministrados en el bloque de parametros\n",
    "    usando Matplotlib\"\"\"\n",
    "    fig = plt.figure()\n",
    "    ax = fig.add_axes([0.1, 0.1, 0.6, 0.75])\n",
    "\n",
    "    lead_days = FCST_DF['lead_day'].unique()\n",
    "    colors = iter(cm.rainbow(np.linspace(0, 1, len(lead_days))))\n",
    "\n",
    "    y = OBS_DF['MinT']\n",
    "\n",
    "    for lead_day in lead_days:\n",
    "        x = FCST_DF.query('lead_day == {}'.format(lead_day))['MinT']\n",
    "        plt.scatter(x, y, \n",
    "                    color=next(colors), alpha=0.5, \n",
    "                    label='Lead Day {}'.format(lead_day))\n",
    "\n",
    "    plt.plot([_MIN_T, _MAX_T], [_MIN_T, _MAX_T], 'k-', lw=2)\n",
    "\n",
    "    ax.set_xlim([_MIN_T, _MAX_T])\n",
    "    ax.set_ylim([_MIN_T, _MAX_T])\n",
    "\n",
    "    ax.set_xlabel('Forecast (degrees Celsius)')\n",
    "    ax.set_ylabel('Observation (degrees Celsius)')\n",
    "\n",
    "    plt.title('MinT forecasts vs observations for \\nMelbourne in Winter 2015')\n",
    "\n",
    "    plt.legend(scatterpoints=1, \n",
    "               bbox_to_anchor=(1.05, 1), \n",
    "               loc=2, \n",
    "               borderaxespad=0.)\n",
    "\n",
    "plot_mpl()"
   ]
  },
  {
   "cell_type": "code",
   "execution_count": null,
   "metadata": {
    "collapsed": true
   },
   "outputs": [],
   "source": [
    "import bokeh\n",
    "from bokeh.plotting import show\n",
    "from bokeh.models import ColumnDataSource, Range1d, glyphs\n",
    "from bokeh.charts import Scatter\n",
    "from bokeh.io import output_notebook\n",
    "from bokeh.resources import INLINE\n",
    "\n",
    "output_notebook(resources=INLINE)\n",
    "\n",
    "def plot_bokeh(**kwargs):\n",
    "     \"\"\"Función que dibuja los datos suministrados en el bloque de parametros\n",
    "    usando bokeh\"\"\"\n",
    "    tools = 'hover,resize,pan,wheel_zoom,box_zoom,reset,tap,previewsave,box_select'   \n",
    "\n",
    "    y = OBS_DF['MinT']\n",
    "        \n",
    "    data = pd.DataFrame(columns=[\n",
    "        'Observation (degrees Celsius)',\n",
    "        'Forecast (degrees Celsius)',\n",
    "        'Lead Day'\n",
    "    ])\n",
    "\n",
    "    for lead_day in FCST_DF['lead_day'].unique():\n",
    "        x = FCST_DF.query('lead_day == {}'.format(lead_day))['MinT']\n",
    "\n",
    "        curr_lead_day = pd.DataFrame()\n",
    "        curr_lead_day['Forecast (degrees Celsius)'] = x        \n",
    "        curr_lead_day['Observation (degrees Celsius)'] = y\n",
    "        curr_lead_day['Lead Day'] = 'Lead Day {}'.format(lead_day)\n",
    "        data = pd.concat([data, curr_lead_day], ignore_index=True)\n",
    "        \n",
    "    fig = Scatter(\n",
    "        data,\n",
    "        x='Forecast (degrees Celsius)',\n",
    "        y='Observation (degrees Celsius)',\n",
    "        color='Lead Day',\n",
    "        legend='top_right',\n",
    "        title='MinT forecasts vs observations for Melbourne in Winter 2015',\n",
    "        tools=tools\n",
    "    )\n",
    "\n",
    "    # Add a line for y=x\n",
    "    fig.add_glyph(\n",
    "        ColumnDataSource(\n",
    "            {'x': [_MIN_T, _MAX_T],\n",
    "             'y': [_MIN_T, _MAX_T]}),\n",
    "        glyphs.Line(x='x', y='y', line_width=2, line_color='black')\n",
    "    )\n",
    "    \n",
    "    fig.set(\n",
    "        x_range=Range1d(_MIN_T, _MAX_T),\n",
    "        y_range=Range1d(_MIN_T, _MAX_T),\n",
    "    )\n",
    "\n",
    "    show(fig)\n",
    "    \n",
    "plot_bokeh()"
   ]
  },
  {
   "cell_type": "code",
   "execution_count": null,
   "metadata": {
    "collapsed": true
   },
   "outputs": [],
   "source": [
    "import plotly\n",
    "from plotly import graph_objs as go\n",
    "from plotly.offline import init_notebook_mode, plot, iplot\n",
    "init_notebook_mode(connected=False)\n",
    "\n",
    "def plot_plotly(**kwargs):\n",
    "     \"\"\"Función que dibuja los datos suministrados en el bloque de parametros\n",
    "    usando plotly\"\"\"\n",
    "    y = OBS_DF['MinT']\n",
    "    \n",
    "    data = []\n",
    "    for lead_day in FCST_DF['lead_day'].unique():\n",
    "        x = FCST_DF.query('lead_day == {}'.format(lead_day))['MinT']\n",
    "                \n",
    "        trace = go.Scatter(x=x, y=y,\n",
    "                           mode='markers',\n",
    "                           name=\"Lead Day {}\".format(lead_day))\n",
    "        data.append(trace)\n",
    "    \n",
    "    ideal = go.Scatter(x=[_MIN_T, _MAX_T], y=[_MIN_T, _MAX_T],\n",
    "                       mode='lines', showlegend=False,\n",
    "                       hoverinfo='none')\n",
    "    data.append(ideal)\n",
    "    \n",
    "    layout = go.Layout(\n",
    "        width=600, height=600, \n",
    "        title='MinT forecasts vs observations for Melbourne in Winter 2015',\n",
    "        xaxis={'title': 'Forecast (degrees Celsius)',\n",
    "               'range': [_MIN_T, _MAX_T],\n",
    "               'gridcolor': '#BBBBBB', 'gridwidth': 1},  # high contrast gridlines\n",
    "        yaxis={'title': 'Observation (degrees Celsius)',\n",
    "               'range': [_MIN_T, _MAX_T],\n",
    "               'gridcolor': '#BBBBBB', 'gridwidth': 1})  # high contrast gridlines\n",
    "\n",
    "    figure = go.Figure(data=data, layout=layout)\n",
    "    iplot(figure, show_link=False)\n",
    "    \n",
    "plot_plotly()"
   ]
  }
 ],
 "metadata": {
  "kernelspec": {
   "display_name": "Python 3",
   "language": "python",
   "name": "python3"
  },
  "language_info": {
   "codemirror_mode": {
    "name": "ipython",
    "version": 3
   },
   "file_extension": ".py",
   "mimetype": "text/x-python",
   "name": "python",
   "nbconvert_exporter": "python",
   "pygments_lexer": "ipython3",
   "version": "3.5.1+"
  }
 },
 "nbformat": 4,
 "nbformat_minor": 2
}
